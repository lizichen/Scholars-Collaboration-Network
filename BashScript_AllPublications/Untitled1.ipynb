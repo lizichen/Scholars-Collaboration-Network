{
 "cells": [
  {
   "cell_type": "code",
   "execution_count": 1,
   "metadata": {
    "collapsed": false
   },
   "outputs": [
    {
     "name": "stdout",
     "output_type": "stream",
     "text": [
      "\n"
     ]
    },
    {
     "data": {
      "text/plain": [
       "\"\\nwith open('author.csv', 'wb') as f:\\n    c = pycurl.Curl()\\n    c.setopt(c.URL, url2)\\n\\n    c.setopt(c.WRITEDATA, f)\\n    c.perform()\\n    c.close()\\n\""
      ]
     },
     "execution_count": 1,
     "metadata": {},
     "output_type": "execute_result"
    }
   ],
   "source": [
    "import pycurl\n",
    "from StringIO import StringIO\n",
    "\n",
    "url1 = 'https://www.scopus.com/onclick/export.uri?oneClickExport=%7B%22Format%22%3A%22CSV%22%2C%22View%22%3A%22CiteOnly%22%7D&origin=AuthorProfile&zone=resultsListHeader&dataCheckoutTest=false&sort=plf-f&tabSelected=docLi&authorId=26023359000&txGid=EDC2B2AFFD9E4AC24F0282233C3C7CCC.wsnAw8kcdt7IPYLO0V48gA%3A73'\n",
    "url2 = 'https://www.scopus.com/onclick/export.uri?oneClickExport={\"Format\":\"CSV\",\"View\":\"CiteOnly\"}&origin=AuthorProfile&zone=resultsListHeader&dataCheckoutTest=false&sort=plf-f&tabSelected=docLi&authorId=26023359000&txGid=EDC2B2AFFD9E4AC24F0282233C3C7CCC.wsnAw8kcdt7IPYLO0V48gA:73'\n",
    "\n",
    "buffer = StringIO()\n",
    "c = pycurl.Curl()\n",
    "c.setopt(c.URL, url1)\n",
    "c.setopt(pycurl.COOKIEFILE, '../scripts/cookie.txt')\n",
    "c.setopt(c.WRITEDATA, buffer)\n",
    "c.perform()\n",
    "c.close()\n",
    "body = buffer.getvalue()\n",
    "print(body)\n",
    "\n",
    "\n",
    "'''\n",
    "with open('author.csv', 'wb') as f:\n",
    "    c = pycurl.Curl()\n",
    "    c.setopt(c.URL, url2)\n",
    "\n",
    "    c.setopt(c.WRITEDATA, f)\n",
    "    c.perform()\n",
    "    c.close()\n",
    "''' \n"
   ]
  },
  {
   "cell_type": "code",
   "execution_count": null,
   "metadata": {
    "collapsed": true
   },
   "outputs": [],
   "source": []
  }
 ],
 "metadata": {
  "anaconda-cloud": {},
  "kernelspec": {
   "display_name": "Python [conda root]",
   "language": "python",
   "name": "conda-root-py"
  },
  "language_info": {
   "codemirror_mode": {
    "name": "ipython",
    "version": 2
   },
   "file_extension": ".py",
   "mimetype": "text/x-python",
   "name": "python",
   "nbconvert_exporter": "python",
   "pygments_lexer": "ipython2",
   "version": "2.7.12"
  }
 },
 "nbformat": 4,
 "nbformat_minor": 1
}
