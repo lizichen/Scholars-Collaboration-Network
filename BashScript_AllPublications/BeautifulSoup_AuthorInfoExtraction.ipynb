{
 "cells": [
  {
   "cell_type": "code",
   "execution_count": 180,
   "metadata": {
    "collapsed": false
   },
   "outputs": [],
   "source": [
    "from bs4 import BeautifulSoup\n",
    "\n",
    "html_doc = open(\"all-authors-html/author_6.html\",'r').read()\n",
    "soup = BeautifulSoup(html_doc, 'html.parser')\n",
    "\n",
    "authorId = []\n",
    "authorNm = []\n",
    "authorUn = []\n",
    "\n",
    "st1 = soup.find(\"input\", {\"name\":\"st1\"})   \n",
    "st2 = soup.find(\"input\", {\"name\":\"st2\"})   \n",
    "lastname = st1.get('value')\n",
    "firstname = st2.get('value')\n",
    "filename = firstname + \"-\" + lastname + \".csv\"\n",
    "target_file = open(filename, 'w')\n",
    "\n",
    "for a in soup.find_all('a'):\n",
    "    if a.get('title') == 'View this author\\'s profile':\n",
    "        href = a.get('href')\n",
    "        index_start = href.index('Id')\n",
    "        index_end = href.index('&origin')\n",
    "        authorId.append(href[index_start+3:index_end])\n",
    "        authorNm.append(a.getText())\n",
    "\n",
    "for uni in soup.findAll(\"div\", { \"class\" : \"dataCol5\" }):\n",
    "    authorUn.append(uni.getText())\n",
    "\n",
    "numberOfRows = len(authorId)\n",
    "target_file.write(str(numberOfRows)+\"\\n\")\n",
    "\n",
    "for i in xrange(0,len(authorId)): \n",
    "    line = \"\"\n",
    "    if authorUn[i][0] == '\\n':\n",
    "        if authorUn[i][1] == '\\n':\n",
    "            line = authorNm[i] + \";\" + authorId[i] + \";\" + authorUn[i][2:]\n",
    "        else:\n",
    "            line = authorNm[i] + \";\" + authorId[i] + \";\" + authorUn[i][1:]\n",
    "    else:\n",
    "        line = authorNm[i] + \";\" + authorId[i] + \";\" + authorUn[i]\n",
    "    target_file.write(line)\n",
    "    \n",
    "target_file.close()"
   ]
  },
  {
   "cell_type": "code",
   "execution_count": null,
   "metadata": {
    "collapsed": true
   },
   "outputs": [],
   "source": []
  }
 ],
 "metadata": {
  "anaconda-cloud": {},
  "kernelspec": {
   "display_name": "Python [conda root]",
   "language": "python",
   "name": "conda-root-py"
  },
  "language_info": {
   "codemirror_mode": {
    "name": "ipython",
    "version": 2
   },
   "file_extension": ".py",
   "mimetype": "text/x-python",
   "name": "python",
   "nbconvert_exporter": "python",
   "pygments_lexer": "ipython2",
   "version": "2.7.12"
  }
 },
 "nbformat": 4,
 "nbformat_minor": 1
}
