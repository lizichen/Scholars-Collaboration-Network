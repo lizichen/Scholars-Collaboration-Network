{
 "cells": [
  {
   "cell_type": "code",
   "execution_count": 16,
   "metadata": {
    "collapsed": false
   },
   "outputs": [
    {
     "name": "stdout",
     "output_type": "stream",
     "text": [
      "<bound method addinfourl.info of <addinfourl at 4385962104 whose fp = <socket._fileobject object at 0x1058c57d0>>>\n"
     ]
    },
    {
     "data": {
      "text/plain": [
       "\"\\ndecoded_content = file.decode('utf-8')\\n\\ncr = csv.reader(decoded_content.splitlines(), delimiter=',')\\nmy_list = list(cr)\\nfor row in my_list:\\n    print(row)\\n        \\n\\nwith open(file, 'rb') as f:\\n    reader = csv.reader(f)\\n    for row in reader:\\n        print row\\n\""
      ]
     },
     "execution_count": 16,
     "metadata": {},
     "output_type": "execute_result"
    }
   ],
   "source": [
    "import urllib2\n",
    "import Cookie\n",
    "import csv\n",
    "\n",
    "url1 = 'https://www.scopus.com/onclick/export.uri?oneClickExport=%7B%22Format%22%3A%22CSV%22%2C%22View%22%3A%22CiteOnly%22%7D&origin=AuthorProfile&zone=resultsListHeader&dataCheckoutTest=false&sort=plf-f&tabSelected=docLi&authorId=26023359000&txGid=EDC2B2AFFD9E4AC24F0282233C3C7CCC.wsnAw8kcdt7IPYLO0V48gA%3A73'\n",
    "url2 = 'https://www.scopus.com/onclick/export.uri?oneClickExport={\"Format\":\"CSV\",\"View\":\"CiteOnly\"}&origin=AuthorProfile&zone=resultsListHeader&dataCheckoutTest=false&sort=plf-f&tabSelected=docLi&authorId=26023359000&txGid=EDC2B2AFFD9E4AC24F0282233C3C7CCC.wsnAw8kcdt7IPYLO0V48gA:73'\n",
    "\n",
    "C = Cookie.SimpleCookie()\n",
    "C[\"SCSessionID\"] = \"495DE9C2F9E8F45489321702808427A6.wsnAw8kcdt7IPYLO0V48gA\"\n",
    "C[\"AE_SESSION_COOKIE\"] = \"1487911714948\"\n",
    "C[\"CARS_COOKIE\"] = \"002F00330032004B004C0072006900370056006D002B004A0070007900520036004E006C0042004A004100330043007900440031004400720036005500470037006B006E0033006B002B007600340079006F004B004F002B0061004E0057004D004F006E0034005A006D0030004C002B0054005A004D004800550063004B00450051006E003200670056007A006300410038004C0069004A0070007900520036004E006C0042004A004100330043007900440031004400720036005500470037006B006E0033006B002B007600340079006F004B004F002B0061004E0057004D004F006E0034005A006D0030004C002B0054005A004D004800550063004B00450053002B004D004800440039006C007A006900560045003D\"\n",
    "\n",
    "cookies = {'SCSessionID':'495DE9C2F9E8F45489321702808427A6.wsnAw8kcdt7IPYLO0V48gA', \n",
    "           'AE_SESSION_COOKIE':'1487911714948', \n",
    "           'CARS_COOKIE':'002F00330032004B004C0072006900370056006D002B004A0070007900520036004E006C0042004A004100330043007900440031004400720036005500470037006B006E0033006B002B007600340079006F004B004F002B0061004E0057004D004F006E0034005A006D0030004C002B0054005A004D004800550063004B00450051006E003200670056007A006300410038004C0069004A0070007900520036004E006C0042004A004100330043007900440031004400720036005500470037006B006E0033006B002B007600340079006F004B004F002B0061004E0057004D004F006E0034005A006D0030004C002B0054005A004D004800550063004B00450053002B004D004800440039006C007A006900560045003D'}\n",
    "\n",
    "opener = urllib2.build_opener()\n",
    "opener.addheaders = [('SCSessionID','495DE9C2F9E8F45489321702808427A6.wsnAw8kcdt7IPYLO0V48gA'),('AE_SESSION_COOKIE','1487911714948'),('CARS_COOKIE','002F00330032004B004C0072006900370056006D002B004A0070007900520036004E006C0042004A004100330043007900440031004400720036005500470037006B006E0033006B002B007600340079006F004B004F002B0061004E0057004D004F006E0034005A006D0030004C002B0054005A004D004800550063004B00450051006E003200670056007A006300410038004C0069004A0070007900520036004E006C0042004A004100330043007900440031004400720036005500470037006B006E0033006B002B007600340079006F004B004F002B0061004E0057004D004F006E0034005A006D0030004C002B0054005A004D004800550063004B00450053002B004D004800440039006C007A006900560045003D')]\n",
    "file = opener.open(url1)\n",
    "\n",
    "print(file.info)\n",
    "\n"
   ]
  },
  {
   "cell_type": "code",
   "execution_count": null,
   "metadata": {
    "collapsed": true
   },
   "outputs": [],
   "source": []
  }
 ],
 "metadata": {
  "kernelspec": {
   "display_name": "Python [conda root]",
   "language": "python",
   "name": "conda-root-py"
  },
  "language_info": {
   "codemirror_mode": {
    "name": "ipython",
    "version": 2
   },
   "file_extension": ".py",
   "mimetype": "text/x-python",
   "name": "python",
   "nbconvert_exporter": "python",
   "pygments_lexer": "ipython2",
   "version": "2.7.12"
  }
 },
 "nbformat": 4,
 "nbformat_minor": 1
}
