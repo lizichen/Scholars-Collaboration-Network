{
 "cells": [
  {
   "cell_type": "code",
   "execution_count": 28,
   "metadata": {
    "collapsed": false
   },
   "outputs": [
    {
     "name": "stdout",
     "output_type": "stream",
     "text": [
      "complete!\n"
     ]
    }
   ],
   "source": [
    "import csv\n",
    "\n",
    "\n",
    "file_object  = \"investigator.csv\"\n",
    "\n",
    "write_to_file = open(\"CleanedInvestigator.csv\", 'w')\n",
    "\n",
    "counter = 1\n",
    "\n",
    "with open(file_object, 'rb') as csvfile:\n",
    "    csvreader = csv.reader(csvfile, delimiter=',')\n",
    "    for row in csvreader:        \n",
    "        counter += 1\n",
    "        towrite = \"\"\n",
    "        if len(row) == 8:\n",
    "            towrite = \"\\\"\" + row[1] + \"\\\",\\\"\" + row[2] + \"\\\",\\\"\" + row[7] + \"\\\"\"\n",
    "        elif len(row) == 7:\n",
    "            towrite = \"\\\"\" + row[1] + \"\\\",\\\"\" + row[2] + \"\\\",\\\"\" + row[6] + \"\\\"\"\n",
    "        else:\n",
    "            print \"Error!\" + row;\n",
    "        write_to_file.write(towrite) \n",
    "        write_to_file.write(\"\\n\")\n",
    "         \n",
    "#         if counter > 200:\n",
    "#             break;\n",
    "\n",
    "\n",
    "\n",
    "\n",
    "write_to_file.close()        \n",
    "print 'complete!'"
   ]
  },
  {
   "cell_type": "code",
   "execution_count": null,
   "metadata": {
    "collapsed": true
   },
   "outputs": [],
   "source": []
  }
 ],
 "metadata": {
  "anaconda-cloud": {},
  "kernelspec": {
   "display_name": "Python [conda root]",
   "language": "python",
   "name": "conda-root-py"
  },
  "language_info": {
   "codemirror_mode": {
    "name": "ipython",
    "version": 2
   },
   "file_extension": ".py",
   "mimetype": "text/x-python",
   "name": "python",
   "nbconvert_exporter": "python",
   "pygments_lexer": "ipython2",
   "version": "2.7.12"
  }
 },
 "nbformat": 4,
 "nbformat_minor": 1
}
