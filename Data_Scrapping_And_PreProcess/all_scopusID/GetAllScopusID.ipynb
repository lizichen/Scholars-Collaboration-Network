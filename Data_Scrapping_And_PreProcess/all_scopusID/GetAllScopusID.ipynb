{
 "cells": [
  {
   "cell_type": "code",
   "execution_count": 30,
   "metadata": {
    "collapsed": false
   },
   "outputs": [
    {
     "name": "stdout",
     "output_type": "stream",
     "text": [
      "48134\n",
      "number of iterated csv files = 48134\n",
      "number of iterated id = 203696\n",
      "number of unique scopus id = 198815\n",
      "done writing...\n"
     ]
    }
   ],
   "source": [
    "# Read all csv files under the directory /all-investigator-csv-final48134/\n",
    "# Each csv file looks like:\n",
    "# 1 | 2 \n",
    "# 2 | AuthorName-1, AuthorScopusID-1, AuthorAffiliation-1\n",
    "# 3 | AuthorName-2, AuthorScopusID-2, AuthorAffiliation-2\n",
    "# Retrieve All the unique AuthorScopusID\n",
    "\n",
    "\n",
    "\n",
    "\n",
    "\n",
    "\n",
    "from os import listdir\n",
    "from os.path import isfile, join\n",
    "import csv\n",
    "\n",
    "csvfilespath = '../all-investigator-csv-final48134/'\n",
    "onlyfiles = [f for f in listdir(mypath) if isfile(join(mypath, f))]\n",
    "print len(onlyfiles)\n",
    "\n",
    "counter = 0\n",
    "number_of_iterated_ids = 0\n",
    "\n",
    "unique_scopus_id_set = set()\n",
    "\n",
    "for filename in onlyfiles:\n",
    "    counter += 1\n",
    "    with open(csvfilespath+filename, \"rb\") as csvfile:\n",
    "        reader = csv.reader(csvfile, delimiter=\",\")\n",
    "        for line in reader:\n",
    "            if len(line) >= 2:\n",
    "                number_of_iterated_ids += 1\n",
    "                unique_scopus_id_set.add(line[1])\n",
    "\n",
    "print \"number of iterated csv files = \"+str(counter)\n",
    "print \"number of iterated id = \" + str(number_of_iterated_ids)\n",
    "print \"number of unique scopus id = \" + str(len(unique_scopus_id_set))\n",
    "\n",
    "targetfile = open(\"unique_scopus_ids.txt\", 'w')\n",
    "\n",
    "for scopusid in unique_scopus_id_set:\n",
    "    targetfile.write(scopusid)\n",
    "    targetfile.write(\"\\n\")\n",
    "\n",
    "print \"done writing...\"\n",
    "targetfile.close()\n"
   ]
  },
  {
   "cell_type": "code",
   "execution_count": null,
   "metadata": {
    "collapsed": true
   },
   "outputs": [],
   "source": []
  }
 ],
 "metadata": {
  "anaconda-cloud": {},
  "kernelspec": {
   "display_name": "Python [conda root]",
   "language": "python",
   "name": "conda-root-py"
  },
  "language_info": {
   "codemirror_mode": {
    "name": "ipython",
    "version": 2
   },
   "file_extension": ".py",
   "mimetype": "text/x-python",
   "name": "python",
   "nbconvert_exporter": "python",
   "pygments_lexer": "ipython2",
   "version": "2.7.12"
  }
 },
 "nbformat": 4,
 "nbformat_minor": 1
}
