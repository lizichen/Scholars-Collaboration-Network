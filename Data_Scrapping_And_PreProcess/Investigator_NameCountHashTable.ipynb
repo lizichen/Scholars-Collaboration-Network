{
 "cells": [
  {
   "cell_type": "code",
   "execution_count": 15,
   "metadata": {
    "collapsed": false
   },
   "outputs": [],
   "source": [
    "# The investigator.csv has many duplicated awardees.\n",
    "# Create a python hash table that has <FirstName_LastName, Repetition> for each entry\n",
    "import glob\n",
    "import csv\n",
    "import sys\n",
    "\n",
    "table = dict() #<FirstName_LastName, Count>\n",
    "\n",
    "count = 1\n",
    "with open(\"investigator.csv\", \"rb\") as f:\n",
    "    reader = csv.reader(f, delimiter=\",\")\n",
    "    for i, line in enumerate(reader):\n",
    "        name = line[1] + \"_\" + line[2]\n",
    "        if str(table.get(name)) == 'None':\n",
    "            table[name] = 1\n",
    "            count += 1\n",
    "        else:\n",
    "            table[name] = table.get(name) + 1\n",
    "\n",
    "print \"numberOfAwardeeNames = \" + str(count)\n",
    "\n",
    "target_file = open('unique-names.txt', 'w')\n",
    "for key, value in table.iteritems():\n",
    "    firstname = \"\\\"\" + key.split(\"_\")[0] + \"\\\"\"\n",
    "    lastname = \"\\\"\" + key.split(\"_\")[1]+ \"\\\"\"\n",
    "    name = firstname + \",\" + lastname\n",
    "    print name\n",
    "    target_file.write(name.encode('utf-8'))\n",
    "    target_file.write(\"\\n\")\n",
    "\n",
    "target_file.close()"
   ]
  },
  {
   "cell_type": "code",
   "execution_count": null,
   "metadata": {
    "collapsed": true
   },
   "outputs": [],
   "source": []
  }
 ],
 "metadata": {
  "anaconda-cloud": {},
  "kernelspec": {
   "display_name": "Python [conda root]",
   "language": "python",
   "name": "conda-root-py"
  },
  "language_info": {
   "codemirror_mode": {
    "name": "ipython",
    "version": 2
   },
   "file_extension": ".py",
   "mimetype": "text/x-python",
   "name": "python",
   "nbconvert_exporter": "python",
   "pygments_lexer": "ipython2",
   "version": "2.7.12"
  }
 },
 "nbformat": 4,
 "nbformat_minor": 1
}
