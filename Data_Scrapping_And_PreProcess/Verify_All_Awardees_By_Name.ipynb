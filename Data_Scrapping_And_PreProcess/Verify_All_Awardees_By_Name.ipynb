{
 "cells": [
  {
   "cell_type": "code",
   "execution_count": 13,
   "metadata": {
    "collapsed": false
   },
   "outputs": [],
   "source": [
    "# Read the Investigator.csv file for all the names.\n",
    "# Find accordingly the name in all-authors-csv\n",
    "import glob\n",
    "import csv\n",
    "import sys\n",
    "\n",
    "target_file = open('MISSING_AWARDEES.txt', 'w')\n",
    "    \n",
    "count = 1\n",
    "with open(\"investigator.csv\", \"rb\") as f:\n",
    "    reader = csv.reader(f, delimiter=\",\")\n",
    "    for i, line in enumerate(reader):\n",
    "        search = line[1] + \"_\" + line[2]\n",
    "        if len(glob.glob('all-authors-csv/'+search+'*.csv')) == 0:\n",
    "            print str(count) + \" \" + search\n",
    "            target_file.write(search.encode('utf-8'))\n",
    "            target_file.write(\"\\n\")\n",
    "            count += 1\n",
    "\n",
    "target_file.close()"
   ]
  },
  {
   "cell_type": "code",
   "execution_count": null,
   "metadata": {
    "collapsed": true
   },
   "outputs": [],
   "source": []
  },
  {
   "cell_type": "code",
   "execution_count": null,
   "metadata": {
    "collapsed": true
   },
   "outputs": [],
   "source": []
  }
 ],
 "metadata": {
  "anaconda-cloud": {},
  "kernelspec": {
   "display_name": "Python [conda root]",
   "language": "python",
   "name": "conda-root-py"
  },
  "language_info": {
   "codemirror_mode": {
    "name": "ipython",
    "version": 2
   },
   "file_extension": ".py",
   "mimetype": "text/x-python",
   "name": "python",
   "nbconvert_exporter": "python",
   "pygments_lexer": "ipython2",
   "version": "2.7.12"
  }
 },
 "nbformat": 4,
 "nbformat_minor": 1
}
