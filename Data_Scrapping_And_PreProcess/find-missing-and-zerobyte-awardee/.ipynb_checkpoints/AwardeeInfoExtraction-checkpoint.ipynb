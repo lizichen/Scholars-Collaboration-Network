{
 "cells": [
  {
   "cell_type": "code",
   "execution_count": 9,
   "metadata": {
    "collapsed": false
   },
   "outputs": [],
   "source": [
    "from bs4 import BeautifulSoup\n",
    "import time\n",
    "import sys\n",
    "\n",
    "# Get one html file from dir all-authors-html/ based on its appendix number, i.e., author_199.html\n",
    "# Extract all the search results:\n",
    "#     FirstName, LastName, Scopus_ID, Affiliation(University)\n",
    "# Store result line-by-line into an csv file into dir authors_csv/ with naming convention: FirstName_LastName_HtmlFileNumber.csv\n",
    "def htmlToCsv(htmlnumber):\n",
    "    html_string = \"missing_awards_html/author_\" + str(htmlnumber) + \".html\"\n",
    "    try:                         \n",
    "        html_doc = open(html_string,'r').read()\n",
    "        soup = BeautifulSoup(html_doc, 'html.parser')\n",
    "        \n",
    "        authorId = []\n",
    "        authorNm = []\n",
    "        authorUn = []\n",
    "\n",
    "        st1 = soup.find(\"input\", {\"name\":\"st1\"}) \n",
    "        if st1 is not None:\n",
    "            st2 = soup.find(\"input\", {\"name\":\"st2\"})   \n",
    "            lastname = st1.get('value')\n",
    "            firstname = st2.get('value')\n",
    "            filename = \"authors_csv/\" + firstname + \"_\" + lastname + \"_\" + str(htmlnumber) + \".csv\"\n",
    "            target_file = open(filename, 'w')\n",
    "            \n",
    "            for a in soup.find_all('a'):\n",
    "                if a.get('title') == 'View this author\\'s profile':\n",
    "                    href = a.get('href')\n",
    "                    index_start = href.index('Id')\n",
    "                    index_end = href.index('&origin')\n",
    "                    authorId.append(href[index_start+3:index_end])\n",
    "                    authorNm.append(a.getText())\n",
    "\n",
    "            for uni in soup.findAll(\"div\", { \"class\" : \"dataCol5\" }):\n",
    "                authorUn.append(uni.getText())\n",
    "\n",
    "            numberOfRows = len(authorId)\n",
    "            target_file.write(str(numberOfRows)+\"\\n\")\n",
    "            numberOfUniversity = len(authorUn)\n",
    "\n",
    "            for i in xrange(0,len(authorId)): \n",
    "                line = \"\"\n",
    "                if i >= numberOfUniversity:\n",
    "                    line = \"\\\"\"+ authorNm[i] + \"\\\",\\\"\" + authorId[i] + \"\\\",\\\"\" + \"N/A\" + \"\\\"\"\n",
    "                else:\n",
    "                    if len(authorUn[i]) == 0:\n",
    "                        line = \"\\\"\"+ authorNm[i] + \"\\\",\\\"\" + authorId[i] + \"\\\",\\\"\" + \"N/A\" + \"\\\"\"\n",
    "                    elif authorUn[i][0] == '\\n':\n",
    "                        if len(authorUn[i]) > 1:\n",
    "                            if authorUn[i][1] == '\\n':\n",
    "                                line = \"\\\"\"+ authorNm[i] + \"\\\",\\\"\" + authorId[i] + \"\\\",\\\"\" + authorUn[i][2:] + \"\\\"\"\n",
    "                            else:\n",
    "                                line = \"\\\"\"+ authorNm[i] + \"\\\",\\\"\" + authorId[i] + \"\\\",\\\"\" + authorUn[i][1:] + \"\\\"\"\n",
    "                        else:\n",
    "                            line = \"\\\"\"+ authorNm[i] + \"\\\",\\\"\" + authorId[i] + \"\\\",\\\"\" + authorUn[i] + \"\\\"\"\n",
    "                    else:\n",
    "                        line = \"\\\"\"+ authorNm[i] + \"\\\",\\\"\" + authorId[i] + \"\\\",\\\"\" + authorUn[i] + \"\\\"\"\n",
    "                target_file.write(line.encode('utf-8'))\n",
    "                target_file.write(\"\\n\")\n",
    "            target_file.close()\n",
    "        else:\n",
    "            EmptyHtmlFiles_Log = open(\"ZERO_BYTE_HTML_LIST.txt\", \"a+\")\n",
    "            EmptyHtmlFiles_Log.write(\"author_\" + str(htmlnumber) + \".html has zero byte!\")\n",
    "            EmptyHtmlFiles_Log.write(\"\\n\")\n",
    "            EmptyHtmlFiles_Log.close()            \n",
    "    except IOError:\n",
    "        NoHtmlInputFile_Log = open(\"HTML_NOT_FOUND_LIST.txt\", \"a+\")\n",
    "        NoHtmlInputFile_Log.write(\"No input file: author_\" + str(htmlnumber) + \".html\")\n",
    "        NoHtmlInputFile_Log.write(\"\\n\")\n",
    "        NoHtmlInputFile_Log.close()\n",
    "            \n",
    "for i in xrange(2545, 6746):\n",
    "    htmlToCsv(i)\n",
    "\n",
    "# htmlToCsv(23509)"
   ]
  },
  {
   "cell_type": "code",
   "execution_count": null,
   "metadata": {
    "collapsed": false
   },
   "outputs": [],
   "source": []
  },
  {
   "cell_type": "code",
   "execution_count": null,
   "metadata": {
    "collapsed": false
   },
   "outputs": [],
   "source": []
  },
  {
   "cell_type": "code",
   "execution_count": null,
   "metadata": {
    "collapsed": true
   },
   "outputs": [],
   "source": []
  }
 ],
 "metadata": {
  "anaconda-cloud": {},
  "kernelspec": {
   "display_name": "Python [conda root]",
   "language": "python",
   "name": "conda-root-py"
  },
  "language_info": {
   "codemirror_mode": {
    "name": "ipython",
    "version": 2
   },
   "file_extension": ".py",
   "mimetype": "text/x-python",
   "name": "python",
   "nbconvert_exporter": "python",
   "pygments_lexer": "ipython2",
   "version": "2.7.12"
  }
 },
 "nbformat": 4,
 "nbformat_minor": 1
}
