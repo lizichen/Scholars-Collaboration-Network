{
 "cells": [
  {
   "cell_type": "code",
   "execution_count": 9,
   "metadata": {
    "collapsed": false,
    "scrolled": false
   },
   "outputs": [
    {
     "name": "stdout",
     "output_type": "stream",
     "text": [
      "ERROR! FN_LN < 2\n",
      "ERROR Name Format:Harrington, Jr , Joseph\n",
      "ERROR Name Format:oger E, Koeppe\", \"55932534200\n",
      "ERROR Name Format:Edwards, Thomas, W D\n",
      "completes!\n",
      "203693\n"
     ]
    }
   ],
   "source": [
    "# read all-investigator-csv-final48134\n",
    "# write useful row into one gaint file\n",
    "import glob\n",
    "import os\n",
    "import csv\n",
    "\n",
    "path = './all-investigator-csv-final48134/'\n",
    "counter = 1\n",
    "target_file = open(\"all-investigator-csv-final48134-merged.csv\", 'w')\n",
    "\n",
    "for investigatorCSVFilename in glob.glob(os.path.join(path, '*.csv')):    \n",
    "    with open(investigatorCSVFilename) as f:\n",
    "        for line in enumerate(f):\n",
    "            if len(line[1].split(\"\\\",\\\"\")) > 1:\n",
    "                counter+=1\n",
    "                content = line[1]\n",
    "                items = content.split(\"\\\",\\\"\")\n",
    "                awardeeName = items[0][2:]\n",
    "                possibleScopusID = items[1]\n",
    "                FN_LN = awardeeName.split(\",\")\n",
    "                if len(FN_LN) < 2:\n",
    "                    print \"ERROR! FN_LN < 2\" + awardeeName\n",
    "                elif len(FN_LN) > 2:\n",
    "                    if len(FN_LN) == 3:\n",
    "                        if FN_LN[1] == \"\":\n",
    "                            towrite = \"\\\"\" + FN_LN[0] + \"\\\"\"+ \",\" + \"\\\"\" + FN_LN[2][1:] + \"\\\"\" + \",\" + \"\\\"\" + possibleScopusID + \"\\\"\" + \"\\n\"\n",
    "                            target_file.write(towrite)\n",
    "                        elif len(FN_LN[2]) <= 3:\n",
    "                            towrite = \"\\\"\" + FN_LN[0] + \"\\\"\"+ \",\" + \"\\\"\" + FN_LN[1][1:] + \"\\\"\" + \",\" + \"\\\"\" + possibleScopusID + \"\\\"\" + \"\\n\"\n",
    "                            target_file.write(towrite)\n",
    "                        else:\n",
    "                            print \"ERROR Name Format:\"+awardeeName\n",
    "                    else:\n",
    "                        print \"ERROR! FN_LN > 2\" + awardeeName\n",
    "\n",
    "                else:\n",
    "                    try:\n",
    "                        towrite = \"\\\"\" + FN_LN[0] + \"\\\"\"+ \",\" + \"\\\"\" + FN_LN[1][1:] + \"\\\"\" + \",\" + \"\\\"\" + possibleScopusID + \"\\\"\" + \"\\n\"\n",
    "                        target_file.write(towrite)\n",
    "                    except:\n",
    "                        print \"error!\"\n",
    "                        print line\n",
    "                        exit()\n",
    "                                        \n",
    "target_file.close()\n",
    "print \"completes!\"\n",
    "print counter\n",
    "\n",
    "       "
   ]
  },
  {
   "cell_type": "code",
   "execution_count": null,
   "metadata": {
    "collapsed": true
   },
   "outputs": [],
   "source": []
  }
 ],
 "metadata": {
  "anaconda-cloud": {},
  "kernelspec": {
   "display_name": "Python [conda root]",
   "language": "python",
   "name": "conda-root-py"
  },
  "language_info": {
   "codemirror_mode": {
    "name": "ipython",
    "version": 2
   },
   "file_extension": ".py",
   "mimetype": "text/x-python",
   "name": "python",
   "nbconvert_exporter": "python",
   "pygments_lexer": "ipython2",
   "version": "2.7.12"
  }
 },
 "nbformat": 4,
 "nbformat_minor": 1
}
